{
 "cells": [
  {
   "cell_type": "markdown",
   "metadata": {},
   "source": [
    "# Lista segmentada de clientes\n",
    "\n",
    "O objetivo deste exercício é segmentar um conjunto de clientes do varejo baseado em suas trasações. Uma das técnicas mais utilizadas para segmentação é a análise [RFM](https://en.wikipedia.org/wiki/RFM_(market_research)), uma combinação de três métricas: \n",
    "* *Recency*, quão recentemente o cliente efetuou uma compra.\n",
    "* *Frequency*, com que frequência o cliente compra.\n",
    "* *Monetary value*, valor gasto nas compras do cliente.\n",
    "\n",
    "Para cada uma das métricas agruparemos os clientes em quatro categorias utilizando *K-means clustering*. No final combinaremos os clusters para gerar nossa lista segmentada.\n",
    "\n",
    "\n",
    "# Importação de pacotes\n"
   ]
  },
  {
   "cell_type": "code",
   "execution_count": 1,
   "metadata": {},
   "outputs": [],
   "source": [
    "from datetime import datetime, timedelta\n",
    "import pandas as pd\n",
    "import sklearn\n",
    "from sklearn.preprocessing import StandardScaler\n",
    "from sklearn.cluster import KMeans\n",
    "from sklearn.metrics import silhouette_score"
   ]
  },
  {
   "cell_type": "markdown",
   "metadata": {},
   "source": [
    "# Preparação de dados"
   ]
  },
  {
   "cell_type": "code",
   "execution_count": 2,
   "metadata": {},
   "outputs": [],
   "source": [
    "data = pd.read_csv('../data/OnlineRetail.csv',encoding=\"ISO-8859-1\", header=0)"
   ]
  },
  {
   "cell_type": "code",
   "execution_count": 3,
   "metadata": {},
   "outputs": [
    {
     "data": {
      "text/html": [
       "<div>\n",
       "<style scoped>\n",
       "    .dataframe tbody tr th:only-of-type {\n",
       "        vertical-align: middle;\n",
       "    }\n",
       "\n",
       "    .dataframe tbody tr th {\n",
       "        vertical-align: top;\n",
       "    }\n",
       "\n",
       "    .dataframe thead th {\n",
       "        text-align: right;\n",
       "    }\n",
       "</style>\n",
       "<table border=\"1\" class=\"dataframe\">\n",
       "  <thead>\n",
       "    <tr style=\"text-align: right;\">\n",
       "      <th></th>\n",
       "      <th>InvoiceNo</th>\n",
       "      <th>StockCode</th>\n",
       "      <th>Description</th>\n",
       "      <th>Quantity</th>\n",
       "      <th>InvoiceDate</th>\n",
       "      <th>UnitPrice</th>\n",
       "      <th>CustomerID</th>\n",
       "      <th>Country</th>\n",
       "    </tr>\n",
       "  </thead>\n",
       "  <tbody>\n",
       "    <tr>\n",
       "      <th>0</th>\n",
       "      <td>536365</td>\n",
       "      <td>85123A</td>\n",
       "      <td>WHITE HANGING HEART T-LIGHT HOLDER</td>\n",
       "      <td>6</td>\n",
       "      <td>01-12-2010 08:26</td>\n",
       "      <td>2.55</td>\n",
       "      <td>17850.0</td>\n",
       "      <td>United Kingdom</td>\n",
       "    </tr>\n",
       "    <tr>\n",
       "      <th>1</th>\n",
       "      <td>536365</td>\n",
       "      <td>71053</td>\n",
       "      <td>WHITE METAL LANTERN</td>\n",
       "      <td>6</td>\n",
       "      <td>01-12-2010 08:26</td>\n",
       "      <td>3.39</td>\n",
       "      <td>17850.0</td>\n",
       "      <td>United Kingdom</td>\n",
       "    </tr>\n",
       "    <tr>\n",
       "      <th>2</th>\n",
       "      <td>536365</td>\n",
       "      <td>84406B</td>\n",
       "      <td>CREAM CUPID HEARTS COAT HANGER</td>\n",
       "      <td>8</td>\n",
       "      <td>01-12-2010 08:26</td>\n",
       "      <td>2.75</td>\n",
       "      <td>17850.0</td>\n",
       "      <td>United Kingdom</td>\n",
       "    </tr>\n",
       "    <tr>\n",
       "      <th>3</th>\n",
       "      <td>536365</td>\n",
       "      <td>84029G</td>\n",
       "      <td>KNITTED UNION FLAG HOT WATER BOTTLE</td>\n",
       "      <td>6</td>\n",
       "      <td>01-12-2010 08:26</td>\n",
       "      <td>3.39</td>\n",
       "      <td>17850.0</td>\n",
       "      <td>United Kingdom</td>\n",
       "    </tr>\n",
       "    <tr>\n",
       "      <th>4</th>\n",
       "      <td>536365</td>\n",
       "      <td>84029E</td>\n",
       "      <td>RED WOOLLY HOTTIE WHITE HEART.</td>\n",
       "      <td>6</td>\n",
       "      <td>01-12-2010 08:26</td>\n",
       "      <td>3.39</td>\n",
       "      <td>17850.0</td>\n",
       "      <td>United Kingdom</td>\n",
       "    </tr>\n",
       "  </tbody>\n",
       "</table>\n",
       "</div>"
      ],
      "text/plain": [
       "  InvoiceNo StockCode                          Description  Quantity  \\\n",
       "0    536365    85123A   WHITE HANGING HEART T-LIGHT HOLDER         6   \n",
       "1    536365     71053                  WHITE METAL LANTERN         6   \n",
       "2    536365    84406B       CREAM CUPID HEARTS COAT HANGER         8   \n",
       "3    536365    84029G  KNITTED UNION FLAG HOT WATER BOTTLE         6   \n",
       "4    536365    84029E       RED WOOLLY HOTTIE WHITE HEART.         6   \n",
       "\n",
       "        InvoiceDate  UnitPrice  CustomerID         Country  \n",
       "0  01-12-2010 08:26       2.55     17850.0  United Kingdom  \n",
       "1  01-12-2010 08:26       3.39     17850.0  United Kingdom  \n",
       "2  01-12-2010 08:26       2.75     17850.0  United Kingdom  \n",
       "3  01-12-2010 08:26       3.39     17850.0  United Kingdom  \n",
       "4  01-12-2010 08:26       3.39     17850.0  United Kingdom  "
      ]
     },
     "execution_count": 3,
     "metadata": {},
     "output_type": "execute_result"
    }
   ],
   "source": [
    "data.head()"
   ]
  },
  {
   "cell_type": "code",
   "execution_count": 4,
   "metadata": {},
   "outputs": [
    {
     "data": {
      "text/html": [
       "<div>\n",
       "<style scoped>\n",
       "    .dataframe tbody tr th:only-of-type {\n",
       "        vertical-align: middle;\n",
       "    }\n",
       "\n",
       "    .dataframe tbody tr th {\n",
       "        vertical-align: top;\n",
       "    }\n",
       "\n",
       "    .dataframe thead th {\n",
       "        text-align: right;\n",
       "    }\n",
       "</style>\n",
       "<table border=\"1\" class=\"dataframe\">\n",
       "  <thead>\n",
       "    <tr style=\"text-align: right;\">\n",
       "      <th></th>\n",
       "      <th>Quantity</th>\n",
       "      <th>UnitPrice</th>\n",
       "      <th>CustomerID</th>\n",
       "    </tr>\n",
       "  </thead>\n",
       "  <tbody>\n",
       "    <tr>\n",
       "      <th>count</th>\n",
       "      <td>541909.000000</td>\n",
       "      <td>541909.000000</td>\n",
       "      <td>406829.000000</td>\n",
       "    </tr>\n",
       "    <tr>\n",
       "      <th>mean</th>\n",
       "      <td>9.552250</td>\n",
       "      <td>4.611114</td>\n",
       "      <td>15287.690570</td>\n",
       "    </tr>\n",
       "    <tr>\n",
       "      <th>std</th>\n",
       "      <td>218.081158</td>\n",
       "      <td>96.759853</td>\n",
       "      <td>1713.600303</td>\n",
       "    </tr>\n",
       "    <tr>\n",
       "      <th>min</th>\n",
       "      <td>-80995.000000</td>\n",
       "      <td>-11062.060000</td>\n",
       "      <td>12346.000000</td>\n",
       "    </tr>\n",
       "    <tr>\n",
       "      <th>25%</th>\n",
       "      <td>1.000000</td>\n",
       "      <td>1.250000</td>\n",
       "      <td>13953.000000</td>\n",
       "    </tr>\n",
       "    <tr>\n",
       "      <th>50%</th>\n",
       "      <td>3.000000</td>\n",
       "      <td>2.080000</td>\n",
       "      <td>15152.000000</td>\n",
       "    </tr>\n",
       "    <tr>\n",
       "      <th>75%</th>\n",
       "      <td>10.000000</td>\n",
       "      <td>4.130000</td>\n",
       "      <td>16791.000000</td>\n",
       "    </tr>\n",
       "    <tr>\n",
       "      <th>max</th>\n",
       "      <td>80995.000000</td>\n",
       "      <td>38970.000000</td>\n",
       "      <td>18287.000000</td>\n",
       "    </tr>\n",
       "  </tbody>\n",
       "</table>\n",
       "</div>"
      ],
      "text/plain": [
       "            Quantity      UnitPrice     CustomerID\n",
       "count  541909.000000  541909.000000  406829.000000\n",
       "mean        9.552250       4.611114   15287.690570\n",
       "std       218.081158      96.759853    1713.600303\n",
       "min    -80995.000000  -11062.060000   12346.000000\n",
       "25%         1.000000       1.250000   13953.000000\n",
       "50%         3.000000       2.080000   15152.000000\n",
       "75%        10.000000       4.130000   16791.000000\n",
       "max     80995.000000   38970.000000   18287.000000"
      ]
     },
     "execution_count": 4,
     "metadata": {},
     "output_type": "execute_result"
    }
   ],
   "source": [
    "data.describe()"
   ]
  },
  {
   "cell_type": "code",
   "execution_count": 5,
   "metadata": {},
   "outputs": [
    {
     "data": {
      "text/plain": [
       "136534"
      ]
     },
     "execution_count": 5,
     "metadata": {},
     "output_type": "execute_result"
    }
   ],
   "source": [
    "data.isnull().sum().sum()"
   ]
  },
  {
   "cell_type": "code",
   "execution_count": 6,
   "metadata": {},
   "outputs": [
    {
     "data": {
      "text/plain": [
       "InvoiceNo       object\n",
       "StockCode       object\n",
       "Description     object\n",
       "Quantity         int64\n",
       "InvoiceDate     object\n",
       "UnitPrice      float64\n",
       "CustomerID     float64\n",
       "Country         object\n",
       "dtype: object"
      ]
     },
     "execution_count": 6,
     "metadata": {},
     "output_type": "execute_result"
    }
   ],
   "source": [
    "data.dtypes"
   ]
  },
  {
   "cell_type": "markdown",
   "metadata": {},
   "source": [
    "Precisamos converter a coluna InvoiceDate para representar uma data, assim podemos calcular a próxima métrica. Também retiramos os valores nulos."
   ]
  },
  {
   "cell_type": "code",
   "execution_count": 7,
   "metadata": {},
   "outputs": [],
   "source": [
    "data = data.dropna()\n",
    "data['InvoiceDate'] = pd.to_datetime(data['InvoiceDate'])"
   ]
  },
  {
   "cell_type": "code",
   "execution_count": 8,
   "metadata": {},
   "outputs": [
    {
     "data": {
      "text/plain": [
       "InvoiceNo              object\n",
       "StockCode              object\n",
       "Description            object\n",
       "Quantity                int64\n",
       "InvoiceDate    datetime64[ns]\n",
       "UnitPrice             float64\n",
       "CustomerID            float64\n",
       "Country                object\n",
       "dtype: object"
      ]
     },
     "execution_count": 8,
     "metadata": {},
     "output_type": "execute_result"
    }
   ],
   "source": [
    "data.dtypes"
   ]
  },
  {
   "cell_type": "markdown",
   "metadata": {},
   "source": [
    "# Ordenação dos clusters\n",
    "\n",
    "Para métrica *Recency*, valores menores são preferíveis. Já para *Frequency* e *Monetary Value*, quanto maior melhor. Levando isso em consideração, utilizaremos a seguinte função auxiliar para ordenar os clusters de acordo com a preferência dos valores das métricas (ascendentes ou descendentes). Isso facilitará quando formos combinar as métricas."
   ]
  },
  {
   "cell_type": "code",
   "execution_count": 9,
   "metadata": {},
   "outputs": [],
   "source": [
    "def order_cluster(cluster_field_name, target_field_name,df,ascending):\n",
    "    new_cluster_field_name = 'new_' + cluster_field_name\n",
    "    df_new = df.groupby(cluster_field_name)[target_field_name].mean().reset_index()\n",
    "    df_new = df_new.sort_values(by=target_field_name,ascending=ascending).reset_index(drop=True)\n",
    "    df_new['index'] = df_new.index\n",
    "    df_final = pd.merge(df,df_new[[cluster_field_name,'index']], on=cluster_field_name)\n",
    "    df_final = df_final.drop([cluster_field_name],axis=1)\n",
    "    df_final = df_final.rename(columns={\"index\":cluster_field_name})\n",
    "    return df_final"
   ]
  },
  {
   "cell_type": "markdown",
   "metadata": {},
   "source": [
    "# Recency\n",
    "\n",
    "Primeiramente vamos gerar a métrica *Recency* para depois agrupar os clientes com base nela (*clustering*)."
   ]
  },
  {
   "cell_type": "code",
   "execution_count": 10,
   "metadata": {},
   "outputs": [
    {
     "data": {
      "text/html": [
       "<div>\n",
       "<style scoped>\n",
       "    .dataframe tbody tr th:only-of-type {\n",
       "        vertical-align: middle;\n",
       "    }\n",
       "\n",
       "    .dataframe tbody tr th {\n",
       "        vertical-align: top;\n",
       "    }\n",
       "\n",
       "    .dataframe thead th {\n",
       "        text-align: right;\n",
       "    }\n",
       "</style>\n",
       "<table border=\"1\" class=\"dataframe\">\n",
       "  <thead>\n",
       "    <tr style=\"text-align: right;\">\n",
       "      <th></th>\n",
       "      <th>CustomerID</th>\n",
       "      <th>R</th>\n",
       "    </tr>\n",
       "  </thead>\n",
       "  <tbody>\n",
       "    <tr>\n",
       "      <th>0</th>\n",
       "      <td>17850.0</td>\n",
       "      <td>69</td>\n",
       "    </tr>\n",
       "    <tr>\n",
       "      <th>1</th>\n",
       "      <td>13047.0</td>\n",
       "      <td>47</td>\n",
       "    </tr>\n",
       "    <tr>\n",
       "      <th>2</th>\n",
       "      <td>12583.0</td>\n",
       "      <td>0</td>\n",
       "    </tr>\n",
       "    <tr>\n",
       "      <th>3</th>\n",
       "      <td>13748.0</td>\n",
       "      <td>159</td>\n",
       "    </tr>\n",
       "    <tr>\n",
       "      <th>4</th>\n",
       "      <td>15100.0</td>\n",
       "      <td>70</td>\n",
       "    </tr>\n",
       "  </tbody>\n",
       "</table>\n",
       "</div>"
      ],
      "text/plain": [
       "   CustomerID    R\n",
       "0     17850.0   69\n",
       "1     13047.0   47\n",
       "2     12583.0    0\n",
       "3     13748.0  159\n",
       "4     15100.0   70"
      ]
     },
     "execution_count": 10,
     "metadata": {},
     "output_type": "execute_result"
    }
   ],
   "source": [
    "costumers = pd.DataFrame(data['CustomerID'].unique())\n",
    "costumers.columns = ['CustomerID']\n",
    "\n",
    "#Dataframe com a data da compra mais recente de cada cliente e a sua diferença pra mais recente de todas as compras.\n",
    "purchase_date = data.groupby('CustomerID').InvoiceDate.max().reset_index()\n",
    "purchase_date.columns = ['CustomerID','Latest']\n",
    "purchase_date['R'] = (purchase_date['Latest'].max() - purchase_date['Latest']).dt.days\n",
    "\n",
    "#Uniao dos dataframes\n",
    "costumers = pd.merge(costumers, purchase_date[['CustomerID','R']], on='CustomerID')\n",
    "\n",
    "costumers.head()\n"
   ]
  },
  {
   "cell_type": "markdown",
   "metadata": {},
   "source": [
    "Agora treinaremos um estimador K-means para determinar em qual cluster cada cliente estará de acordo com sua última compra. Além de ordenar os índices dos clusters de maneira descendente. "
   ]
  },
  {
   "cell_type": "code",
   "execution_count": 11,
   "metadata": {},
   "outputs": [
    {
     "data": {
      "text/html": [
       "<div>\n",
       "<style scoped>\n",
       "    .dataframe tbody tr th:only-of-type {\n",
       "        vertical-align: middle;\n",
       "    }\n",
       "\n",
       "    .dataframe tbody tr th {\n",
       "        vertical-align: top;\n",
       "    }\n",
       "\n",
       "    .dataframe thead th {\n",
       "        text-align: right;\n",
       "    }\n",
       "</style>\n",
       "<table border=\"1\" class=\"dataframe\">\n",
       "  <thead>\n",
       "    <tr style=\"text-align: right;\">\n",
       "      <th></th>\n",
       "      <th>count</th>\n",
       "      <th>mean</th>\n",
       "      <th>std</th>\n",
       "      <th>min</th>\n",
       "      <th>25%</th>\n",
       "      <th>50%</th>\n",
       "      <th>75%</th>\n",
       "      <th>max</th>\n",
       "    </tr>\n",
       "    <tr>\n",
       "      <th>RC</th>\n",
       "      <th></th>\n",
       "      <th></th>\n",
       "      <th></th>\n",
       "      <th></th>\n",
       "      <th></th>\n",
       "      <th></th>\n",
       "      <th></th>\n",
       "      <th></th>\n",
       "    </tr>\n",
       "  </thead>\n",
       "  <tbody>\n",
       "    <tr>\n",
       "      <th>0</th>\n",
       "      <td>76.0</td>\n",
       "      <td>588.934211</td>\n",
       "      <td>94.109912</td>\n",
       "      <td>454.0</td>\n",
       "      <td>485.0</td>\n",
       "      <td>638.0</td>\n",
       "      <td>666.0</td>\n",
       "      <td>697.0</td>\n",
       "    </tr>\n",
       "    <tr>\n",
       "      <th>1</th>\n",
       "      <td>618.0</td>\n",
       "      <td>278.504854</td>\n",
       "      <td>44.639643</td>\n",
       "      <td>211.0</td>\n",
       "      <td>243.0</td>\n",
       "      <td>270.0</td>\n",
       "      <td>311.0</td>\n",
       "      <td>424.0</td>\n",
       "    </tr>\n",
       "    <tr>\n",
       "      <th>2</th>\n",
       "      <td>952.0</td>\n",
       "      <td>143.115546</td>\n",
       "      <td>35.023641</td>\n",
       "      <td>88.0</td>\n",
       "      <td>114.0</td>\n",
       "      <td>141.5</td>\n",
       "      <td>174.0</td>\n",
       "      <td>210.0</td>\n",
       "    </tr>\n",
       "    <tr>\n",
       "      <th>3</th>\n",
       "      <td>2726.0</td>\n",
       "      <td>32.363536</td>\n",
       "      <td>24.061944</td>\n",
       "      <td>0.0</td>\n",
       "      <td>12.0</td>\n",
       "      <td>25.0</td>\n",
       "      <td>51.0</td>\n",
       "      <td>87.0</td>\n",
       "    </tr>\n",
       "  </tbody>\n",
       "</table>\n",
       "</div>"
      ],
      "text/plain": [
       "     count        mean        std    min    25%    50%    75%    max\n",
       "RC                                                                  \n",
       "0     76.0  588.934211  94.109912  454.0  485.0  638.0  666.0  697.0\n",
       "1    618.0  278.504854  44.639643  211.0  243.0  270.0  311.0  424.0\n",
       "2    952.0  143.115546  35.023641   88.0  114.0  141.5  174.0  210.0\n",
       "3   2726.0   32.363536  24.061944    0.0   12.0   25.0   51.0   87.0"
      ]
     },
     "execution_count": 11,
     "metadata": {},
     "output_type": "execute_result"
    }
   ],
   "source": [
    "kmeans = KMeans(n_clusters=4)\n",
    "kmeans.fit(costumers[['R']])\n",
    "# Cluster R\n",
    "costumers['RC'] = kmeans.predict(costumers[['R']])\n",
    "\n",
    "costumers = order_cluster('RC', 'R',costumers,False)\n",
    "\n",
    "costumers.groupby('RC')['R'].describe()"
   ]
  },
  {
   "cell_type": "markdown",
   "metadata": {},
   "source": [
    "# Frequency\n",
    "\n",
    "Repetimos o mesmo processo para métrica de frequência, fazendo a união com o dataframe de clientes e ordenando de maneira ascendente."
   ]
  },
  {
   "cell_type": "code",
   "execution_count": 12,
   "metadata": {},
   "outputs": [
    {
     "data": {
      "text/html": [
       "<div>\n",
       "<style scoped>\n",
       "    .dataframe tbody tr th:only-of-type {\n",
       "        vertical-align: middle;\n",
       "    }\n",
       "\n",
       "    .dataframe tbody tr th {\n",
       "        vertical-align: top;\n",
       "    }\n",
       "\n",
       "    .dataframe thead th {\n",
       "        text-align: right;\n",
       "    }\n",
       "</style>\n",
       "<table border=\"1\" class=\"dataframe\">\n",
       "  <thead>\n",
       "    <tr style=\"text-align: right;\">\n",
       "      <th></th>\n",
       "      <th>count</th>\n",
       "      <th>mean</th>\n",
       "      <th>std</th>\n",
       "      <th>min</th>\n",
       "      <th>25%</th>\n",
       "      <th>50%</th>\n",
       "      <th>75%</th>\n",
       "      <th>max</th>\n",
       "    </tr>\n",
       "    <tr>\n",
       "      <th>FC</th>\n",
       "      <th></th>\n",
       "      <th></th>\n",
       "      <th></th>\n",
       "      <th></th>\n",
       "      <th></th>\n",
       "      <th></th>\n",
       "      <th></th>\n",
       "      <th></th>\n",
       "    </tr>\n",
       "  </thead>\n",
       "  <tbody>\n",
       "    <tr>\n",
       "      <th>0</th>\n",
       "      <td>3862.0</td>\n",
       "      <td>49.753755</td>\n",
       "      <td>44.812998</td>\n",
       "      <td>1.0</td>\n",
       "      <td>15.0</td>\n",
       "      <td>34.0</td>\n",
       "      <td>73.0</td>\n",
       "      <td>189.0</td>\n",
       "    </tr>\n",
       "    <tr>\n",
       "      <th>1</th>\n",
       "      <td>482.0</td>\n",
       "      <td>329.107884</td>\n",
       "      <td>132.670589</td>\n",
       "      <td>190.0</td>\n",
       "      <td>228.0</td>\n",
       "      <td>286.0</td>\n",
       "      <td>393.5</td>\n",
       "      <td>803.0</td>\n",
       "    </tr>\n",
       "    <tr>\n",
       "      <th>2</th>\n",
       "      <td>24.0</td>\n",
       "      <td>1349.750000</td>\n",
       "      <td>508.637759</td>\n",
       "      <td>872.0</td>\n",
       "      <td>1003.5</td>\n",
       "      <td>1156.0</td>\n",
       "      <td>1541.0</td>\n",
       "      <td>2782.0</td>\n",
       "    </tr>\n",
       "    <tr>\n",
       "      <th>3</th>\n",
       "      <td>4.0</td>\n",
       "      <td>5914.000000</td>\n",
       "      <td>1473.845537</td>\n",
       "      <td>4642.0</td>\n",
       "      <td>5006.5</td>\n",
       "      <td>5515.5</td>\n",
       "      <td>6423.0</td>\n",
       "      <td>7983.0</td>\n",
       "    </tr>\n",
       "  </tbody>\n",
       "</table>\n",
       "</div>"
      ],
      "text/plain": [
       "     count         mean          std     min     25%     50%     75%     max\n",
       "FC                                                                          \n",
       "0   3862.0    49.753755    44.812998     1.0    15.0    34.0    73.0   189.0\n",
       "1    482.0   329.107884   132.670589   190.0   228.0   286.0   393.5   803.0\n",
       "2     24.0  1349.750000   508.637759   872.0  1003.5  1156.0  1541.0  2782.0\n",
       "3      4.0  5914.000000  1473.845537  4642.0  5006.5  5515.5  6423.0  7983.0"
      ]
     },
     "execution_count": 12,
     "metadata": {},
     "output_type": "execute_result"
    }
   ],
   "source": [
    "frequency = data.groupby('CustomerID').InvoiceDate.count().reset_index()\n",
    "frequency.columns = ['CustomerID','F']\n",
    "\n",
    "costumers = pd.merge(costumers, frequency, on='CustomerID')\n",
    "\n",
    "\n",
    "kmeans = KMeans(n_clusters=4)\n",
    "kmeans.fit(costumers[['F']])\n",
    "costumers['FC'] = kmeans.predict(costumers[['F']])\n",
    "\n",
    "costumers = order_cluster('FC', 'F',costumers,True)\n",
    "\n",
    "costumers.groupby('FC')['F'].describe()"
   ]
  },
  {
   "cell_type": "markdown",
   "metadata": {},
   "source": [
    "# Monetary Value\n",
    "\n",
    "E finalmente geramos os clusters para a última métrica. "
   ]
  },
  {
   "cell_type": "code",
   "execution_count": 13,
   "metadata": {},
   "outputs": [
    {
     "data": {
      "text/html": [
       "<div>\n",
       "<style scoped>\n",
       "    .dataframe tbody tr th:only-of-type {\n",
       "        vertical-align: middle;\n",
       "    }\n",
       "\n",
       "    .dataframe tbody tr th {\n",
       "        vertical-align: top;\n",
       "    }\n",
       "\n",
       "    .dataframe thead th {\n",
       "        text-align: right;\n",
       "    }\n",
       "</style>\n",
       "<table border=\"1\" class=\"dataframe\">\n",
       "  <thead>\n",
       "    <tr style=\"text-align: right;\">\n",
       "      <th></th>\n",
       "      <th>count</th>\n",
       "      <th>mean</th>\n",
       "      <th>std</th>\n",
       "      <th>min</th>\n",
       "      <th>25%</th>\n",
       "      <th>50%</th>\n",
       "      <th>75%</th>\n",
       "      <th>max</th>\n",
       "    </tr>\n",
       "    <tr>\n",
       "      <th>MC</th>\n",
       "      <th></th>\n",
       "      <th></th>\n",
       "      <th></th>\n",
       "      <th></th>\n",
       "      <th></th>\n",
       "      <th></th>\n",
       "      <th></th>\n",
       "      <th></th>\n",
       "    </tr>\n",
       "  </thead>\n",
       "  <tbody>\n",
       "    <tr>\n",
       "      <th>0</th>\n",
       "      <td>4252.0</td>\n",
       "      <td>1160.746285</td>\n",
       "      <td>1403.441736</td>\n",
       "      <td>-4287.63</td>\n",
       "      <td>286.565</td>\n",
       "      <td>623.575</td>\n",
       "      <td>1476.0700</td>\n",
       "      <td>8257.04</td>\n",
       "    </tr>\n",
       "    <tr>\n",
       "      <th>1</th>\n",
       "      <td>102.0</td>\n",
       "      <td>15390.295980</td>\n",
       "      <td>7557.269118</td>\n",
       "      <td>8393.22</td>\n",
       "      <td>10192.235</td>\n",
       "      <td>12395.080</td>\n",
       "      <td>17460.8075</td>\n",
       "      <td>40340.78</td>\n",
       "    </tr>\n",
       "    <tr>\n",
       "      <th>2</th>\n",
       "      <td>15.0</td>\n",
       "      <td>71423.516000</td>\n",
       "      <td>28632.631870</td>\n",
       "      <td>50415.49</td>\n",
       "      <td>52287.280</td>\n",
       "      <td>57385.880</td>\n",
       "      <td>77008.7300</td>\n",
       "      <td>132572.62</td>\n",
       "    </tr>\n",
       "    <tr>\n",
       "      <th>3</th>\n",
       "      <td>3.0</td>\n",
       "      <td>241136.560000</td>\n",
       "      <td>47874.073443</td>\n",
       "      <td>187482.17</td>\n",
       "      <td>221960.330</td>\n",
       "      <td>256438.490</td>\n",
       "      <td>267963.7550</td>\n",
       "      <td>279489.02</td>\n",
       "    </tr>\n",
       "  </tbody>\n",
       "</table>\n",
       "</div>"
      ],
      "text/plain": [
       "     count           mean           std        min         25%         50%  \\\n",
       "MC                                                                           \n",
       "0   4252.0    1160.746285   1403.441736   -4287.63     286.565     623.575   \n",
       "1    102.0   15390.295980   7557.269118    8393.22   10192.235   12395.080   \n",
       "2     15.0   71423.516000  28632.631870   50415.49   52287.280   57385.880   \n",
       "3      3.0  241136.560000  47874.073443  187482.17  221960.330  256438.490   \n",
       "\n",
       "            75%        max  \n",
       "MC                          \n",
       "0     1476.0700    8257.04  \n",
       "1    17460.8075   40340.78  \n",
       "2    77008.7300  132572.62  \n",
       "3   267963.7550  279489.02  "
      ]
     },
     "execution_count": 13,
     "metadata": {},
     "output_type": "execute_result"
    }
   ],
   "source": [
    "# Nova coluna com o valor total de cada compra\n",
    "data['M'] = data['UnitPrice'] * data['Quantity']\n",
    "monetary = data.groupby('CustomerID').M.sum().reset_index()\n",
    "\n",
    "costumers = pd.merge(costumers, monetary, on='CustomerID')\n",
    "\n",
    "kmeans = KMeans(n_clusters=4)\n",
    "kmeans.fit(costumers[['M']])\n",
    "costumers['MC'] = kmeans.predict(costumers[['M']])\n",
    "\n",
    "\n",
    "costumers = order_cluster('MC', 'M',costumers,True)\n",
    "\n",
    "costumers.groupby('MC')['M'].describe()"
   ]
  },
  {
   "cell_type": "markdown",
   "metadata": {},
   "source": [
    "# Métricas combinadas\n",
    "\n",
    "Depois de determinar em que grupo cada cliente se encontra por métrica, vamos atribuí-los um *score* que combine as três métricas. Como ordenamos os índices de cada cluster de acordo com o que é melhor para cada métrica, se simplesmente somarmos o valor dos clusters podemos perceber que os valores menos significativos de todas métrica, **em média**, obterão scores mais baixos e os mais significativos obterão scores mais altos."
   ]
  },
  {
   "cell_type": "code",
   "execution_count": 14,
   "metadata": {},
   "outputs": [
    {
     "name": "stderr",
     "output_type": "stream",
     "text": [
      "/Users/raonilourenco/miniconda2/envs/testenv/lib/python3.6/site-packages/ipykernel_launcher.py:2: FutureWarning: Indexing with multiple keys (implicitly converted to a tuple of keys) will be deprecated, use a list instead.\n",
      "  \n"
     ]
    },
    {
     "data": {
      "text/html": [
       "<div>\n",
       "<style scoped>\n",
       "    .dataframe tbody tr th:only-of-type {\n",
       "        vertical-align: middle;\n",
       "    }\n",
       "\n",
       "    .dataframe tbody tr th {\n",
       "        vertical-align: top;\n",
       "    }\n",
       "\n",
       "    .dataframe thead th {\n",
       "        text-align: right;\n",
       "    }\n",
       "</style>\n",
       "<table border=\"1\" class=\"dataframe\">\n",
       "  <thead>\n",
       "    <tr style=\"text-align: right;\">\n",
       "      <th></th>\n",
       "      <th>R</th>\n",
       "      <th>F</th>\n",
       "      <th>M</th>\n",
       "    </tr>\n",
       "    <tr>\n",
       "      <th>Score</th>\n",
       "      <th></th>\n",
       "      <th></th>\n",
       "      <th></th>\n",
       "    </tr>\n",
       "  </thead>\n",
       "  <tbody>\n",
       "    <tr>\n",
       "      <th>0</th>\n",
       "      <td>588.934211</td>\n",
       "      <td>19.118421</td>\n",
       "      <td>217.693816</td>\n",
       "    </tr>\n",
       "    <tr>\n",
       "      <th>1</th>\n",
       "      <td>278.649837</td>\n",
       "      <td>25.368078</td>\n",
       "      <td>376.201515</td>\n",
       "    </tr>\n",
       "    <tr>\n",
       "      <th>2</th>\n",
       "      <td>144.181230</td>\n",
       "      <td>40.111111</td>\n",
       "      <td>680.362168</td>\n",
       "    </tr>\n",
       "    <tr>\n",
       "      <th>3</th>\n",
       "      <td>36.289978</td>\n",
       "      <td>63.689532</td>\n",
       "      <td>1191.074866</td>\n",
       "    </tr>\n",
       "    <tr>\n",
       "      <th>4</th>\n",
       "      <td>21.931373</td>\n",
       "      <td>303.007353</td>\n",
       "      <td>4382.193186</td>\n",
       "    </tr>\n",
       "    <tr>\n",
       "      <th>5</th>\n",
       "      <td>13.949367</td>\n",
       "      <td>512.443038</td>\n",
       "      <td>14196.265949</td>\n",
       "    </tr>\n",
       "    <tr>\n",
       "      <th>6</th>\n",
       "      <td>19.909091</td>\n",
       "      <td>955.909091</td>\n",
       "      <td>44249.222727</td>\n",
       "    </tr>\n",
       "    <tr>\n",
       "      <th>7</th>\n",
       "      <td>9.333333</td>\n",
       "      <td>2432.555556</td>\n",
       "      <td>98056.746667</td>\n",
       "    </tr>\n",
       "    <tr>\n",
       "      <th>8</th>\n",
       "      <td>4.666667</td>\n",
       "      <td>4372.000000</td>\n",
       "      <td>156394.183333</td>\n",
       "    </tr>\n",
       "  </tbody>\n",
       "</table>\n",
       "</div>"
      ],
      "text/plain": [
       "                R            F              M\n",
       "Score                                        \n",
       "0      588.934211    19.118421     217.693816\n",
       "1      278.649837    25.368078     376.201515\n",
       "2      144.181230    40.111111     680.362168\n",
       "3       36.289978    63.689532    1191.074866\n",
       "4       21.931373   303.007353    4382.193186\n",
       "5       13.949367   512.443038   14196.265949\n",
       "6       19.909091   955.909091   44249.222727\n",
       "7        9.333333  2432.555556   98056.746667\n",
       "8        4.666667  4372.000000  156394.183333"
      ]
     },
     "execution_count": 14,
     "metadata": {},
     "output_type": "execute_result"
    }
   ],
   "source": [
    "costumers['Score'] = costumers['RC'] + costumers['FC'] + costumers['MC']\n",
    "costumers.groupby('Score')['R','F','M'].mean()"
   ]
  },
  {
   "cell_type": "markdown",
   "metadata": {},
   "source": [
    "# Segmentos\n",
    "\n",
    "Para finalizar o exercício vamos dividir os clientes em três segmentos: **Baixo, médio e alto** valor de retorno para os negócios. Cada segmento será a união de cliente com três scores próximos. "
   ]
  },
  {
   "cell_type": "code",
   "execution_count": 15,
   "metadata": {},
   "outputs": [],
   "source": [
    "costumers['Segment'] = 'Low'\n",
    "costumers.loc[costumers['Score']>2,'Segment'] = 'Medium' \n",
    "costumers.loc[costumers['Score']>4,'Segment'] = 'High' "
   ]
  },
  {
   "cell_type": "code",
   "execution_count": 16,
   "metadata": {},
   "outputs": [
    {
     "data": {
      "text/html": [
       "<div>\n",
       "<style scoped>\n",
       "    .dataframe tbody tr th:only-of-type {\n",
       "        vertical-align: middle;\n",
       "    }\n",
       "\n",
       "    .dataframe tbody tr th {\n",
       "        vertical-align: top;\n",
       "    }\n",
       "\n",
       "    .dataframe thead th {\n",
       "        text-align: right;\n",
       "    }\n",
       "</style>\n",
       "<table border=\"1\" class=\"dataframe\">\n",
       "  <thead>\n",
       "    <tr style=\"text-align: right;\">\n",
       "      <th></th>\n",
       "      <th>CustomerID</th>\n",
       "      <th>R</th>\n",
       "      <th>RC</th>\n",
       "      <th>F</th>\n",
       "      <th>FC</th>\n",
       "      <th>M</th>\n",
       "      <th>MC</th>\n",
       "      <th>Score</th>\n",
       "      <th>Segment</th>\n",
       "    </tr>\n",
       "  </thead>\n",
       "  <tbody>\n",
       "    <tr>\n",
       "      <th>0</th>\n",
       "      <td>17850.0</td>\n",
       "      <td>69</td>\n",
       "      <td>3</td>\n",
       "      <td>312</td>\n",
       "      <td>1</td>\n",
       "      <td>5288.63</td>\n",
       "      <td>0</td>\n",
       "      <td>4</td>\n",
       "      <td>Medium</td>\n",
       "    </tr>\n",
       "    <tr>\n",
       "      <th>1</th>\n",
       "      <td>13047.0</td>\n",
       "      <td>47</td>\n",
       "      <td>3</td>\n",
       "      <td>196</td>\n",
       "      <td>1</td>\n",
       "      <td>3079.10</td>\n",
       "      <td>0</td>\n",
       "      <td>4</td>\n",
       "      <td>Medium</td>\n",
       "    </tr>\n",
       "    <tr>\n",
       "      <th>2</th>\n",
       "      <td>12583.0</td>\n",
       "      <td>0</td>\n",
       "      <td>3</td>\n",
       "      <td>251</td>\n",
       "      <td>1</td>\n",
       "      <td>7187.34</td>\n",
       "      <td>0</td>\n",
       "      <td>4</td>\n",
       "      <td>Medium</td>\n",
       "    </tr>\n",
       "    <tr>\n",
       "      <th>3</th>\n",
       "      <td>14688.0</td>\n",
       "      <td>0</td>\n",
       "      <td>3</td>\n",
       "      <td>359</td>\n",
       "      <td>1</td>\n",
       "      <td>5107.38</td>\n",
       "      <td>0</td>\n",
       "      <td>4</td>\n",
       "      <td>Medium</td>\n",
       "    </tr>\n",
       "    <tr>\n",
       "      <th>4</th>\n",
       "      <td>12431.0</td>\n",
       "      <td>2</td>\n",
       "      <td>3</td>\n",
       "      <td>240</td>\n",
       "      <td>1</td>\n",
       "      <td>6416.39</td>\n",
       "      <td>0</td>\n",
       "      <td>4</td>\n",
       "      <td>Medium</td>\n",
       "    </tr>\n",
       "  </tbody>\n",
       "</table>\n",
       "</div>"
      ],
      "text/plain": [
       "   CustomerID   R  RC    F  FC        M  MC  Score Segment\n",
       "0     17850.0  69   3  312   1  5288.63   0      4  Medium\n",
       "1     13047.0  47   3  196   1  3079.10   0      4  Medium\n",
       "2     12583.0   0   3  251   1  7187.34   0      4  Medium\n",
       "3     14688.0   0   3  359   1  5107.38   0      4  Medium\n",
       "4     12431.0   2   3  240   1  6416.39   0      4  Medium"
      ]
     },
     "execution_count": 16,
     "metadata": {},
     "output_type": "execute_result"
    }
   ],
   "source": [
    "costumers.head()"
   ]
  },
  {
   "cell_type": "markdown",
   "metadata": {},
   "source": [
    "Percebe-se que o id co cliente está em formato float, trocaremos para inteiro."
   ]
  },
  {
   "cell_type": "code",
   "execution_count": 17,
   "metadata": {},
   "outputs": [],
   "source": [
    "costumers['CustomerID'] = costumers['CustomerID'].astype(int)"
   ]
  },
  {
   "cell_type": "code",
   "execution_count": 20,
   "metadata": {},
   "outputs": [],
   "source": [
    "costumers.to_csv('../api/segments/costumers.csv')"
   ]
  },
  {
   "cell_type": "markdown",
   "metadata": {},
   "source": [
    "# Metadados do dataset final"
   ]
  },
  {
   "cell_type": "code",
   "execution_count": 19,
   "metadata": {},
   "outputs": [
    {
     "data": {
      "text/plain": [
       "CustomerID      int64\n",
       "R               int64\n",
       "RC              int64\n",
       "F               int64\n",
       "FC              int64\n",
       "M             float64\n",
       "MC              int64\n",
       "Score           int64\n",
       "Segment        object\n",
       "dtype: object"
      ]
     },
     "execution_count": 19,
     "metadata": {},
     "output_type": "execute_result"
    }
   ],
   "source": [
    "costumers.dtypes"
   ]
  },
  {
   "cell_type": "code",
   "execution_count": null,
   "metadata": {},
   "outputs": [],
   "source": []
  }
 ],
 "metadata": {
  "kernelspec": {
   "display_name": "Python 3",
   "language": "python",
   "name": "python3"
  },
  "language_info": {
   "codemirror_mode": {
    "name": "ipython",
    "version": 3
   },
   "file_extension": ".py",
   "mimetype": "text/x-python",
   "name": "python",
   "nbconvert_exporter": "python",
   "pygments_lexer": "ipython3",
   "version": "3.6.10"
  }
 },
 "nbformat": 4,
 "nbformat_minor": 4
}
